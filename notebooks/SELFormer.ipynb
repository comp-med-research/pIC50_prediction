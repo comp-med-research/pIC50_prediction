{
 "cells": [
  {
   "cell_type": "markdown",
   "id": "92ac57e0",
   "metadata": {},
   "source": [
    "# SELFormer Model"
   ]
  },
  {
   "cell_type": "markdown",
   "id": "59ee61ec",
   "metadata": {},
   "source": [
    "This notebook demonstrates the use of a pretrained foundation model, SELFormer, to generate embeddings based on a molecules SELFie annotations and predict (binary classification) sufficient potency. A molecule is deemed potent if pIC50 >8."
   ]
  },
  {
   "cell_type": "code",
   "execution_count": 3,
   "id": "79a241a2",
   "metadata": {},
   "outputs": [
    {
     "name": "stderr",
     "output_type": "stream",
     "text": [
      "/novo/users/hlaf/.conda/envs/SELFormer_env/lib/python3.10/site-packages/tqdm/auto.py:21: TqdmWarning: IProgress not found. Please update jupyter and ipywidgets. See https://ipywidgets.readthedocs.io/en/stable/user_install.html\n",
      "  from .autonotebook import tqdm as notebook_tqdm\n"
     ]
    },
    {
     "data": {
      "text/plain": [
       "<torch._C.Generator at 0x7fa687151f30>"
      ]
     },
     "execution_count": 3,
     "metadata": {},
     "output_type": "execute_result"
    }
   ],
   "source": [
    "#creating deepcopy of model instances\n",
    "from copy import deepcopy\n",
    "\n",
    "#Python standard libraries\n",
    "from pathlib import Path\n",
    "from warnings import filterwarnings\n",
    "import time\n",
    "import pandas as pd\n",
    "import numpy as np\n",
    "import pickle\n",
    "\n",
    "#helper packages\n",
    "from .utils.helpers import performance_measures, model_performance, \\\n",
    " model_training_and_validation, get_splits\n",
    "\n",
    "#XGBoost library\n",
    "import xgboost as xgb\n",
    "\n",
    "#visualization\n",
    "import seaborn as sns\n",
    "import matplotlib.pyplot as plt\n",
    "\n",
    "import ast\n",
    "import torch\n",
    "\n",
    "#sklearn models and metric functions\n",
    "from sklearn import metrics, clone\n",
    "from sklearn.ensemble import RandomForestClassifier\n",
    "from sklearn.model_selection import train_test_split\n",
    "from sklearn.metrics import auc, accuracy_score, recall_score,roc_curve,\\\n",
    "      precision_score, f1_score,ror_auc_score, confusion_matrix\n",
    "\n",
    "#Silence some expected warnings\n",
    "filterwarnings(\"ignore\")\n",
    "\n",
    "#Fix seed for reproducible results\n",
    "SEED = 22\n",
    "torch.manual_seed(SEED)"
   ]
  },
  {
   "cell_type": "code",
   "execution_count": 28,
   "id": "87dc80e3",
   "metadata": {},
   "outputs": [],
   "source": [
    "#import train and test datasets with pretrained and finetuned embeddings \n",
    "train_pre = pd.read_csv(\"../../SELFormer/data/EGFR_train_valid_embeddings.csv\")\n",
    "train_ft = pd.read_csv(\"../../SELFormer/data/EGFR_train_valid_embeddings_ft.csv\")\n",
    "# test_pre = pd.read_csv(\"../../SELFormer/data/EGFR_test_embeddings.csv\")\n",
    "# test_ft = pd.read_csv(\"../../SELFormer/data/EGFR_test_embeddings_ft.csv\")"
   ]
  },
  {
   "cell_type": "code",
   "execution_count": 29,
   "id": "59fb5d7b",
   "metadata": {},
   "outputs": [],
   "source": [
    "\n",
    "#convert sequence embeddings to floats\n",
    "train_pre['sequence_embeddings'] = train_pre['sequence_embeddings'].apply(ast.literal_eval)\n",
    "train_ft['sequence_embeddings'] = train_ft['sequence_embeddings'].apply(ast.literal_eval)\n",
    "# test_pre['sequence_embeddings'] = test_pre['sequence_embeddings'].apply(ast.literal_eval)\n",
    "# test_ft['sequence_embeddings'] = test_ft['sequence_embeddings'].apply(ast.literal_eval)"
   ]
  },
  {
   "cell_type": "code",
   "execution_count": 8,
   "id": "ce6a3fd4",
   "metadata": {},
   "outputs": [
    {
     "data": {
      "text/html": [
       "<div>\n",
       "<style scoped>\n",
       "    .dataframe tbody tr th:only-of-type {\n",
       "        vertical-align: middle;\n",
       "    }\n",
       "\n",
       "    .dataframe tbody tr th {\n",
       "        vertical-align: top;\n",
       "    }\n",
       "\n",
       "    .dataframe thead th {\n",
       "        text-align: right;\n",
       "    }\n",
       "</style>\n",
       "<table border=\"1\" class=\"dataframe\">\n",
       "  <thead>\n",
       "    <tr style=\"text-align: right;\">\n",
       "      <th></th>\n",
       "      <th>pIC50</th>\n",
       "      <th>molecular_weight</th>\n",
       "      <th>n_hba</th>\n",
       "      <th>n_hbd</th>\n",
       "      <th>logp</th>\n",
       "      <th>ro5_fulfilled</th>\n",
       "      <th>label</th>\n",
       "      <th>sequence_embeddings</th>\n",
       "    </tr>\n",
       "  </thead>\n",
       "  <tbody>\n",
       "    <tr>\n",
       "      <th>0</th>\n",
       "      <td>8.747147</td>\n",
       "      <td>522.168141</td>\n",
       "      <td>10</td>\n",
       "      <td>5</td>\n",
       "      <td>1.70260</td>\n",
       "      <td>True</td>\n",
       "      <td>1</td>\n",
       "      <td>[1.2085514068603516, -0.11604826897382736, -0....</td>\n",
       "    </tr>\n",
       "    <tr>\n",
       "      <th>1</th>\n",
       "      <td>4.525347</td>\n",
       "      <td>344.142219</td>\n",
       "      <td>2</td>\n",
       "      <td>0</td>\n",
       "      <td>4.23280</td>\n",
       "      <td>True</td>\n",
       "      <td>0</td>\n",
       "      <td>[1.3283782005310059, 0.05607220157980919, -0.3...</td>\n",
       "    </tr>\n",
       "    <tr>\n",
       "      <th>2</th>\n",
       "      <td>6.000000</td>\n",
       "      <td>438.086160</td>\n",
       "      <td>7</td>\n",
       "      <td>2</td>\n",
       "      <td>5.03420</td>\n",
       "      <td>True</td>\n",
       "      <td>0</td>\n",
       "      <td>[1.0904375314712524, -0.017458688467741013, -0...</td>\n",
       "    </tr>\n",
       "    <tr>\n",
       "      <th>3</th>\n",
       "      <td>8.795880</td>\n",
       "      <td>499.269573</td>\n",
       "      <td>8</td>\n",
       "      <td>2</td>\n",
       "      <td>4.50980</td>\n",
       "      <td>True</td>\n",
       "      <td>1</td>\n",
       "      <td>[1.0145310163497925, -0.1012229472398758, -0.3...</td>\n",
       "    </tr>\n",
       "    <tr>\n",
       "      <th>4</th>\n",
       "      <td>5.508638</td>\n",
       "      <td>271.030314</td>\n",
       "      <td>5</td>\n",
       "      <td>2</td>\n",
       "      <td>2.94918</td>\n",
       "      <td>True</td>\n",
       "      <td>0</td>\n",
       "      <td>[1.0852192640304565, 0.22207874059677124, -0.2...</td>\n",
       "    </tr>\n",
       "  </tbody>\n",
       "</table>\n",
       "</div>"
      ],
      "text/plain": [
       "      pIC50  molecular_weight  n_hba  n_hbd     logp  ro5_fulfilled  label   \n",
       "0  8.747147        522.168141     10      5  1.70260           True      1  \\\n",
       "1  4.525347        344.142219      2      0  4.23280           True      0   \n",
       "2  6.000000        438.086160      7      2  5.03420           True      0   \n",
       "3  8.795880        499.269573      8      2  4.50980           True      1   \n",
       "4  5.508638        271.030314      5      2  2.94918           True      0   \n",
       "\n",
       "                                 sequence_embeddings  \n",
       "0  [1.2085514068603516, -0.11604826897382736, -0....  \n",
       "1  [1.3283782005310059, 0.05607220157980919, -0.3...  \n",
       "2  [1.0904375314712524, -0.017458688467741013, -0...  \n",
       "3  [1.0145310163497925, -0.1012229472398758, -0.3...  \n",
       "4  [1.0852192640304565, 0.22207874059677124, -0.2...  "
      ]
     },
     "execution_count": 8,
     "metadata": {},
     "output_type": "execute_result"
    }
   ],
   "source": [
    "train_pre.head()"
   ]
  },
  {
   "cell_type": "code",
   "execution_count": 30,
   "id": "2b667c7a",
   "metadata": {},
   "outputs": [],
   "source": [
    "def get_splits(df):\n",
    "    \"\"\"\n",
    "    Helper function to split the dataset into train and validation datasets\n",
    "\n",
    "    Parameters\n",
    "    ----------\n",
    "    df: pandas df object\n",
    "        The dataframe to split into train, test sets.\n",
    "\n",
    "    Returns\n",
    "    -------\n",
    "    list:\n",
    "        list with train_x, test_x, train_y, test_y dataframes.\n",
    "    \"\"\"\n",
    "    fingerprint_to_model = train_pre.sequence_embeddings.tolist()\n",
    "    label_to_model = train_pre.label.tolist()\n",
    "\n",
    "    # Split data randomly in train and test set\n",
    "    # note that we use test/train_x for the respective fingerprint splits\n",
    "    # and test/train_y for the respective label splits\n",
    "    (\n",
    "        static_train_x,\n",
    "        static_test_x,\n",
    "        static_train_y,\n",
    "        static_test_y,\n",
    "    ) = train_test_split(fingerprint_to_model, label_to_model, test_size=0.2, random_state=SEED)\n",
    "    splits = [static_train_x, static_test_x, static_train_y, static_test_y]\n",
    "    \n",
    "    print(\"Training data size:\", len(static_train_x))\n",
    "    print(\"Test data size:\", len(static_test_x))\n",
    "\n",
    "    return splits"
   ]
  },
  {
   "cell_type": "code",
   "execution_count": 22,
   "id": "0d5cdb83",
   "metadata": {},
   "outputs": [],
   "source": [
    "def model_performance(ml_model, test_x, test_y, verbose=True):\n",
    "    \"\"\"\n",
    "    Helper function to calculate model performance\n",
    "\n",
    "    Parameters\n",
    "    ----------\n",
    "    ml_model: sklearn model object\n",
    "        The machine learning model to train.\n",
    "    test_x: list\n",
    "        Molecular fingerprints for test set.\n",
    "    test_y: list\n",
    "        Associated activity labels for test set.\n",
    "    verbose: bool\n",
    "        Print performance measure (default = True)\n",
    "\n",
    "    Returns\n",
    "    -------\n",
    "    tuple:\n",
    "        Accuracy, sensitivity, specificity, auc on test set.\n",
    "    \"\"\"\n",
    "\n",
    "    # Prediction probability on test set\n",
    "    test_prob = ml_model.predict_proba(test_x)[:, 1]\n",
    "\n",
    "    # Prediction class on test set\n",
    "    test_pred = ml_model.predict(test_x)\n",
    "\n",
    "    # Performance of model on test set\n",
    "    accuracy = accuracy_score(test_y, test_pred)\n",
    "    sens = recall_score(test_y, test_pred)\n",
    "    spec = recall_score(test_y, test_pred, pos_label=0)\n",
    "    auc = roc_auc_score(test_y, test_prob)\n",
    "\n",
    "    if verbose:\n",
    "        # Print performance results\n",
    "        # NBVAL_CHECK_OUTPUT        print(f\"Accuracy: {accuracy:.2}\")\n",
    "        print(f\"Sensitivity: {sens:.2f}\")\n",
    "        print(f\"Specificity: {spec:.2f}\")\n",
    "        print(f\"AUC: {auc:.2f}\")\n",
    "\n",
    "    return accuracy, sens, spec, auc"
   ]
  },
  {
   "cell_type": "code",
   "execution_count": 13,
   "id": "75b64a3d",
   "metadata": {},
   "outputs": [],
   "source": [
    "def model_training_and_validation(ml_model, name, splits, verbose=True):\n",
    "    \"\"\"\n",
    "    Fit a machine learning model on a random train-test split of the data\n",
    "    and return the performance measures.\n",
    "\n",
    "    Parameters\n",
    "    ----------\n",
    "    ml_model: sklearn model object\n",
    "        The machine learning model to train.\n",
    "    name: str\n",
    "        Name of machine learning algorithm: RF, SVM, ANN\n",
    "    splits: list\n",
    "        List of desciptor and label data: train_x, test_x, train_y, test_y.\n",
    "    verbose: bool\n",
    "        Print performance info (default = True)\n",
    "\n",
    "    Returns\n",
    "    -------\n",
    "    tuple:\n",
    "        Accuracy, sensitivity, specificity, auc on test set.\n",
    "\n",
    "    \"\"\"\n",
    "    train_x, test_x, train_y, test_y = splits\n",
    "\n",
    "    # Fit the model\n",
    "    ml_model.fit(train_x, train_y)\n",
    "\n",
    "    # Calculate model performance results\n",
    "    accuracy, sens, spec, auc = model_performance(ml_model, test_x, test_y, verbose)\n",
    "\n",
    "    return accuracy, sens, spec, auc"
   ]
  },
  {
   "cell_type": "markdown",
   "id": "1475e50c",
   "metadata": {},
   "source": [
    "## Training models on embeddings"
   ]
  },
  {
   "cell_type": "markdown",
   "id": "56cf475b",
   "metadata": {},
   "source": [
    "#### Random Forest"
   ]
  },
  {
   "cell_type": "code",
   "execution_count": 14,
   "id": "99238c94",
   "metadata": {},
   "outputs": [],
   "source": [
    "# Set model parameter for random forest\n",
    "param = {\n",
    "    \"n_estimators\": 100,  # number of trees to grows\n",
    "    \"criterion\": \"entropy\",  # cost function to be optimized for a split\n",
    "}\n",
    "model_RF = RandomForestClassifier(**param)"
   ]
  },
  {
   "cell_type": "code",
   "execution_count": 31,
   "id": "faa1bdf4",
   "metadata": {},
   "outputs": [
    {
     "name": "stdout",
     "output_type": "stream",
     "text": [
      "Training data size: 2966\n",
      "Test data size: 742\n",
      "Training data size: 2966\n",
      "Test data size: 742\n"
     ]
    }
   ],
   "source": [
    "#training splits from pretrained trained model \n",
    "splits_pre = get_splits(train_pre)\n",
    "#training splits from finetuned model \n",
    "splits_ft = get_splits(train_ft)\n"
   ]
  },
  {
   "cell_type": "code",
   "execution_count": 32,
   "id": "0a262b2d",
   "metadata": {},
   "outputs": [
    {
     "name": "stdout",
     "output_type": "stream",
     "text": [
      "Sensitivity: 0.21\n",
      "Specificity: 0.97\n",
      "AUC: 0.81\n"
     ]
    }
   ],
   "source": [
    "# Fit model on pretrained model embeddings\n",
    "performance_measures = model_training_and_validation(model_RF, \"RF\", splits_pre)"
   ]
  },
  {
   "cell_type": "code",
   "execution_count": 33,
   "id": "45b94395",
   "metadata": {},
   "outputs": [
    {
     "name": "stdout",
     "output_type": "stream",
     "text": [
      "Sensitivity: 0.21\n",
      "Specificity: 0.98\n",
      "AUC: 0.82\n"
     ]
    }
   ],
   "source": [
    "# Fit model on finetuned model embeddings\n",
    "performance_measures = model_training_and_validation(model_RF, \"RF\", splits_ft)"
   ]
  },
  {
   "cell_type": "markdown",
   "id": "51876533",
   "metadata": {},
   "source": [
    "#### XGBoost"
   ]
  },
  {
   "cell_type": "code",
   "execution_count": null,
   "id": "cc28dc48",
   "metadata": {},
   "outputs": [],
   "source": [
    "#best performing xgboost model\n",
    "file_name = \"xgb_reg.pkl\"\n",
    "\n",
    "# load\n",
    "xgb_model_loaded = pickle.load(open(file_name, \"rb\"))\n"
   ]
  },
  {
   "cell_type": "code",
   "execution_count": 9,
   "id": "298ccacc",
   "metadata": {},
   "outputs": [
    {
     "ename": "NameError",
     "evalue": "name 'model_training_and_validation' is not defined",
     "output_type": "error",
     "traceback": [
      "\u001b[0;31m---------------------------------------------------------------------------\u001b[0m",
      "\u001b[0;31mNameError\u001b[0m                                 Traceback (most recent call last)",
      "Cell \u001b[0;32mIn[9], line 2\u001b[0m\n\u001b[1;32m      1\u001b[0m \u001b[38;5;66;03m# Fit model on pretrained model embeddings\u001b[39;00m\n\u001b[0;32m----> 2\u001b[0m performance_measures \u001b[38;5;241m=\u001b[39m \u001b[43mmodel_training_and_validation\u001b[49m(xgb_model_loaded, \u001b[38;5;124m\"\u001b[39m\u001b[38;5;124mxgboost\u001b[39m\u001b[38;5;124m\"\u001b[39m, splits_pre)\n",
      "\u001b[0;31mNameError\u001b[0m: name 'model_training_and_validation' is not defined"
     ]
    }
   ],
   "source": [
    "# Fit model on pretrained model embeddings\n",
    "performance_measures = model_training_and_validation(xgb_model_loaded, \"xgboost\", splits_pre)"
   ]
  },
  {
   "cell_type": "code",
   "execution_count": null,
   "id": "2af3156e",
   "metadata": {},
   "outputs": [],
   "source": [
    "# Fit model on finetuned model embeddings\n",
    "performance_measures = model_training_and_validation(xgb_model_loaded, \"xgboost\", splits_ft)"
   ]
  },
  {
   "cell_type": "markdown",
   "id": "0b2ec463",
   "metadata": {},
   "source": [
    "## Predictions on Finetuned Selformer"
   ]
  },
  {
   "cell_type": "markdown",
   "id": "080733a5",
   "metadata": {},
   "source": [
    "The predictions of the finetuned SELFormer model have been generated using command line code predict the labels ofthe test set. Below is an evaluation of the model's performance."
   ]
  },
  {
   "cell_type": "code",
   "execution_count": 6,
   "id": "d4975f22",
   "metadata": {},
   "outputs": [],
   "source": [
    "#read in predictions\n",
    "selformer_finetuned_predictions = pd.read_csv(\"../models/SELFormer/data/predictions/EGFR_finetuned_predictions.csv\")"
   ]
  },
  {
   "cell_type": "code",
   "execution_count": 7,
   "id": "f8de27cb",
   "metadata": {},
   "outputs": [
    {
     "data": {
      "text/html": [
       "<div>\n",
       "<style scoped>\n",
       "    .dataframe tbody tr th:only-of-type {\n",
       "        vertical-align: middle;\n",
       "    }\n",
       "\n",
       "    .dataframe tbody tr th {\n",
       "        vertical-align: top;\n",
       "    }\n",
       "\n",
       "    .dataframe thead th {\n",
       "        text-align: right;\n",
       "    }\n",
       "</style>\n",
       "<table border=\"1\" class=\"dataframe\">\n",
       "  <thead>\n",
       "    <tr style=\"text-align: right;\">\n",
       "      <th></th>\n",
       "      <th>selfies</th>\n",
       "      <th>label</th>\n",
       "      <th>prediction</th>\n",
       "    </tr>\n",
       "  </thead>\n",
       "  <tbody>\n",
       "    <tr>\n",
       "      <th>0</th>\n",
       "      <td>[O][C][=C][C][=N][C][=N][C][Branch1][=N][N][C]...</td>\n",
       "      <td>1</td>\n",
       "      <td>1</td>\n",
       "    </tr>\n",
       "    <tr>\n",
       "      <th>1</th>\n",
       "      <td>[N][C][=C][C][=C][Branch2][Ring1][=N][N][C][NH...</td>\n",
       "      <td>1</td>\n",
       "      <td>0</td>\n",
       "    </tr>\n",
       "    <tr>\n",
       "      <th>2</th>\n",
       "      <td>[N][#C][C][Branch1][Ring1][C][#N][=C][C][=C][C...</td>\n",
       "      <td>0</td>\n",
       "      <td>0</td>\n",
       "    </tr>\n",
       "    <tr>\n",
       "      <th>3</th>\n",
       "      <td>[C][C][=C][C][=C][Branch2][Ring2][#Branch1][C]...</td>\n",
       "      <td>0</td>\n",
       "      <td>0</td>\n",
       "    </tr>\n",
       "    <tr>\n",
       "      <th>4</th>\n",
       "      <td>[C][O][C][=C][C][Branch1][N][/C][=C][Branch1][...</td>\n",
       "      <td>0</td>\n",
       "      <td>0</td>\n",
       "    </tr>\n",
       "  </tbody>\n",
       "</table>\n",
       "</div>"
      ],
      "text/plain": [
       "                                             selfies  label  prediction\n",
       "0  [O][C][=C][C][=N][C][=N][C][Branch1][=N][N][C]...      1           1\n",
       "1  [N][C][=C][C][=C][Branch2][Ring1][=N][N][C][NH...      1           0\n",
       "2  [N][#C][C][Branch1][Ring1][C][#N][=C][C][=C][C...      0           0\n",
       "3  [C][C][=C][C][=C][Branch2][Ring2][#Branch1][C]...      0           0\n",
       "4  [C][O][C][=C][C][Branch1][N][/C][=C][Branch1][...      0           0"
      ]
     },
     "execution_count": 7,
     "metadata": {},
     "output_type": "execute_result"
    }
   ],
   "source": [
    "selformer_finetuned_predictions.head()"
   ]
  },
  {
   "cell_type": "code",
   "execution_count": 11,
   "id": "0d47a947",
   "metadata": {},
   "outputs": [
    {
     "name": "stdout",
     "output_type": "stream",
     "text": [
      "Accuracy: 0.84\n",
      "Sensitivity: 0.57\n",
      "Specificity: 0.91\n",
      "AUC: 0.73\n"
     ]
    }
   ],
   "source": [
    "# Performance of model on test set\n",
    "accuracy = accuracy_score(selformer_finetuned_predictions['label'], selformer_finetuned_predictions['prediction'])\n",
    "sens = precision_score(selformer_finetuned_predictions['label'], selformer_finetuned_predictions['prediction'])\n",
    "spec = recall_score(selformer_finetuned_predictions['label'], selformer_finetuned_predictions['prediction'], pos_label=0)\n",
    "auc = roc_auc_score(selformer_finetuned_predictions['label'], selformer_finetuned_predictions['prediction'])\n",
    "\n",
    "# Print performance results\n",
    "print(f\"Accuracy: {accuracy:.2}\")\n",
    "print(f\"Sensitivity: {sens:.2f}\")\n",
    "print(f\"Specificity: {spec:.2f}\")\n",
    "print(f\"AUC: {auc:.2f}\")"
   ]
  }
 ],
 "metadata": {
  "kernelspec": {
   "display_name": "cloudspace",
   "language": "python",
   "name": "python3"
  },
  "language_info": {
   "codemirror_mode": {
    "name": "ipython",
    "version": 3
   },
   "file_extension": ".py",
   "mimetype": "text/x-python",
   "name": "python",
   "nbconvert_exporter": "python",
   "pygments_lexer": "ipython3",
   "version": "3.10.14"
  }
 },
 "nbformat": 4,
 "nbformat_minor": 5
}
