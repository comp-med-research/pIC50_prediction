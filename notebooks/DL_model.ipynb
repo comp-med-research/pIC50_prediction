{
 "cells": [
  {
   "cell_type": "markdown",
   "id": "92ac57e0",
   "metadata": {},
   "source": [
    "# pIC50 Prediction Task"
   ]
  },
  {
   "cell_type": "markdown",
   "id": "59ee61ec",
   "metadata": {},
   "source": [
    "During the course of a drug discovery program, a critical task is the ability to “screen” a\n",
    "library of compounds in order to find molecules that can bind to and potentially inhibit\n",
    "the activity of a target protein (we call such readout “potency”). Due to the prohibitive\n",
    "cost of large scale experimental screening, virtual in silico screening serves as an initial\n",
    "step. This approach significantly reduces costs while facilitating the evaluation and\n",
    "prioritization of an extensive range of small molecules.\n",
    "\n",
    "A variety of methods is available for virtual screening, including ligand-based machine\n",
    "learning models that rely on the molecular structure as input to predict their activities.\n",
    "This notebook includes an exploration of a dataset of 4.6k compounds that have undergone \n",
    "experimental testing against the Epidermal Growth Factor Receptor (EGFR) kinase, a target\n",
    "associated with various cancers, as well as a prediction of the potency value (pIC50), using \n",
    "an pretrained foundation model, for novel compounds targeting EGFR.\n"
   ]
  },
  {
   "cell_type": "code",
   "execution_count": 57,
   "id": "79a241a2",
   "metadata": {},
   "outputs": [
    {
     "data": {
      "text/plain": [
       "<torch._C.Generator at 0x7fc21c783a50>"
      ]
     },
     "execution_count": 57,
     "metadata": {},
     "output_type": "execute_result"
    }
   ],
   "source": [
    "#creating deepcopy of model instances\n",
    "from copy import deepcopy\n",
    "\n",
    "#Python standard libraries\n",
    "import time\n",
    "import warnings\n",
    "from pathlib import Path\n",
    "from warnings import filterwarnings\n",
    "import time\n",
    "import pandas as pd\n",
    "import numpy as np\n",
    "\n",
    "#XGBoost library\n",
    "import xgboost as xgb\n",
    "\n",
    "#visualization\n",
    "import seaborn as sns\n",
    "import matplotlib.pyplot as plt\n",
    "\n",
    "import torch\n",
    "\n",
    "#selected plotting functions\n",
    "# from statsmodels.graphics.tsaplots import plot_acf,plot_pacf\n",
    "\n",
    "#sklearn models and metric functions\n",
    "from sklearn import svm, metrics, clone\n",
    "from sklearn.ensemble import RandomForestClassifier\n",
    "from sklearn.neural_network import MLPClassifier\n",
    "from sklearn.model_selection import KFold, train_test_split\n",
    "from sklearn.model_selection import GridSearchCV,RandomizedSearchCV\n",
    "from skopt import BayesSearchCV\n",
    "from sklearn.metrics import auc, accuracy_score, recall_score, roc_curve, precision_score\n",
    "from sklearn.metrics import accuracy_score,f1_score,roc_auc_score,confusion_matrix\n",
    "\n",
    "#FP generators\n",
    "from rdkit import Chem\n",
    "from rdkit.Chem import MACCSkeys, rdFingerprintGenerator\n",
    "\n",
    "#Silence some expected warnings\n",
    "filterwarnings(\"ignore\")\n",
    "\n",
    "#Fix seed for reproducible results\n",
    "SEED = 22\n",
    "torch.manual_seed(SEED)"
   ]
  },
  {
   "cell_type": "code",
   "execution_count": null,
   "id": "87dc80e3",
   "metadata": {},
   "outputs": [],
   "source": [
    "#import train and test datasets\n",
    "train = pd.read_csv(\"pIC50_prediction/data/train.csv\")\n",
    "test = pd.read_csv(\"pIC50_prediction/data/test.csv\")"
   ]
  },
  {
   "cell_type": "code",
   "execution_count": null,
   "id": "a5aaf9eb",
   "metadata": {},
   "outputs": [],
   "source": [
    "#import pretrained model"
   ]
  }
 ],
 "metadata": {
  "kernelspec": {
   "display_name": "cloudspace",
   "language": "python",
   "name": "python3"
  },
  "language_info": {
   "codemirror_mode": {
    "name": "ipython",
    "version": 3
   },
   "file_extension": ".py",
   "mimetype": "text/x-python",
   "name": "python",
   "nbconvert_exporter": "python",
   "pygments_lexer": "ipython3",
   "version": "3.10.10"
  }
 },
 "nbformat": 4,
 "nbformat_minor": 5
}
